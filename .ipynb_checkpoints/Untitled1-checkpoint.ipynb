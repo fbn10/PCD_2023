{
 "cells": [
  {
   "cell_type": "markdown",
   "id": "8cab40f9-3587-46f6-b8ba-e5a5fba46bfc",
   "metadata": {},
   "source": [
    "## bases de datos 3/10/2023"
   ]
  },
  {
   "cell_type": "markdown",
   "id": "e8e60638-680c-4cfd-b9b3-b3345d0cc443",
   "metadata": {},
   "source": [
    "hilos:"
   ]
  },
  {
   "cell_type": "markdown",
   "id": "29981cea-6a83-483d-a018-10d6ddb4d4f5",
   "metadata": {},
   "source": [
    "#### import libs, manage therad:"
   ]
  },
  {
   "cell_type": "code",
   "execution_count": 1,
   "id": "853ab775-52ee-424a-b12a-5a402fad1aef",
   "metadata": {},
   "outputs": [],
   "source": [
    "import threading as th"
   ]
  },
  {
   "cell_type": "code",
   "execution_count": null,
   "id": "180074ad-573f-43df-ae30-494862cea248",
   "metadata": {},
   "outputs": [],
   "source": [
    "th.current_thread().getName() "
   ]
  },
  {
   "cell_type": "code",
   "execution_count": null,
   "id": "faea8252-a8e3-474c-b872-d2f49052958b",
   "metadata": {},
   "outputs": [],
   "source": [
    "th.enumerate() "
   ]
  },
  {
   "cell_type": "markdown",
   "id": "f599810c-8e33-4946-820f-b73288d99215",
   "metadata": {},
   "source": [
    "## cual es el padre de esos hilos "
   ]
  },
  {
   "cell_type": "code",
   "execution_count": null,
   "id": "5e984eef-90fb-44d6-8753-e3356edd5346",
   "metadata": {},
   "outputs": [],
   "source": [
    "import os"
   ]
  },
  {
   "cell_type": "code",
   "execution_count": null,
   "id": "21fe561b-df85-49eb-9afb-70d1d395ad71",
   "metadata": {},
   "outputs": [],
   "source": [
    "os.getpid()"
   ]
  },
  {
   "cell_type": "code",
   "execution_count": null,
   "id": "429bbab1-f700-43c0-afde-4b1721c2483c",
   "metadata": {},
   "outputs": [],
   "source": [
    "from IPython import display as dp "
   ]
  },
  {
   "cell_type": "markdown",
   "id": "41f3b777-6336-456a-8598-c5e020e26ecb",
   "metadata": {},
   "source": [
    " the parent is"
   ]
  },
  {
   "cell_type": "code",
   "execution_count": null,
   "id": "d6d563b2-df28-4b35-a3be-b806b9d09e10",
   "metadata": {},
   "outputs": [],
   "source": [
    "dp.Image(\"PCD_2023/05_10_2023.png\")"
   ]
  },
  {
   "cell_type": "markdown",
   "id": "9291dd1b-2327-4690-a2c9-97aef646fae8",
   "metadata": {},
   "source": [
    "# HILOS VS PROCESOS "
   ]
  },
  {
   "cell_type": "markdown",
   "id": "ee8cce68-e9d4-4260-942d-8b384e40a04e",
   "metadata": {},
   "source": [
    "### THREADS EX.\n"
   ]
  },
  {
   "cell_type": "code",
   "execution_count": 9,
   "id": "55214586-d59b-474e-9bf9-9788e30e72b6",
   "metadata": {},
   "outputs": [],
   "source": [
    "def do_nothing():\n",
    "    while True:\n",
    "        pass\n",
    "    "
   ]
  },
  {
   "cell_type": "code",
   "execution_count": null,
   "id": "a0466db9-e3ac-4627-8fa0-f240df0539eb",
   "metadata": {},
   "outputs": [],
   "source": [
    "for i in range(20):\n",
    "    th.Thread(target=do_nothing()).start\n",
    "\n",
    "th.enumerate()"
   ]
  },
  {
   "cell_type": "markdown",
   "id": "54475a8f-8c54-4929-ad61-23d286aa8912",
   "metadata": {},
   "source": [
    "### PROCESS EX"
   ]
  },
  {
   "cell_type": "code",
   "execution_count": null,
   "id": "d2acf08f-07c5-4304-b9a8-fbdedb1456a9",
   "metadata": {},
   "outputs": [],
   "source": [
    "for i in range(20):\n",
    "mp.Process(target=do_nothing()).start\n",
    " "
   ]
  },
  {
   "cell_type": "markdown",
   "id": "82cbe0af-9ecf-4f3e-bb90-4afc6b085bb4",
   "metadata": {},
   "source": [
    "## ¿CUANTOS HILOS PUEDO INSTANCIAR?"
   ]
  },
  {
   "cell_type": "code",
   "execution_count": null,
   "id": "f03430cd-8c91-4a12-a362-68b05e84a331",
   "metadata": {},
   "outputs": [],
   "source": []
  },
  {
   "cell_type": "code",
   "execution_count": null,
   "id": "a005f383-453d-4434-b488-50700d68f553",
   "metadata": {},
   "outputs": [],
   "source": []
  },
  {
   "cell_type": "markdown",
   "id": "892f8530-54cc-4a08-801c-2ec13cfc6d3a",
   "metadata": {},
   "source": [
    "# Import libs, manage proces(core)"
   ]
  },
  {
   "cell_type": "code",
   "execution_count": null,
   "id": "374c7521-b5e0-4cc4-977d-a9d25999bfd9",
   "metadata": {},
   "outputs": [],
   "source": []
  },
  {
   "cell_type": "code",
   "execution_count": null,
   "id": "a5441265-ec9b-4253-b5aa-0c61eea46414",
   "metadata": {},
   "outputs": [],
   "source": [
    "import multiprocessing as mp #manage cores"
   ]
  },
  {
   "cell_type": "code",
   "execution_count": null,
   "id": "fbce9deb-cad6-4763-ab0f-1aa68d1e606d",
   "metadata": {},
   "outputs": [],
   "source": [
    "mp.cpu_count()"
   ]
  },
  {
   "cell_type": "code",
   "execution_count": null,
   "id": "5b1fd74c-a80e-4716-bb81-d6ed0bf26cc5",
   "metadata": {},
   "outputs": [],
   "source": [
    "#q interprete de python es \n"
   ]
  },
  {
   "cell_type": "code",
   "execution_count": null,
   "id": "bd12710b-d06a-4456-b5d7-4ff77b2b0028",
   "metadata": {},
   "outputs": [],
   "source": [
    "! python3 --version \n"
   ]
  },
  {
   "cell_type": "code",
   "execution_count": null,
   "id": "b3c01f07-3aca-47db-8aea-9b9b76d2247c",
   "metadata": {},
   "outputs": [],
   "source": [
    "import platform as pt "
   ]
  },
  {
   "cell_type": "code",
   "execution_count": null,
   "id": "142e6ee4-2146-4a63-b60d-009a2cf7abfa",
   "metadata": {},
   "outputs": [],
   "source": [
    "pt.python_implementation()"
   ]
  },
  {
   "cell_type": "code",
   "execution_count": null,
   "id": "1c07d4ae-758f-42d6-898b-021de246e0fe",
   "metadata": {},
   "outputs": [],
   "source": [
    "pt.python_compiler()"
   ]
  },
  {
   "cell_type": "code",
   "execution_count": null,
   "id": "7fa427ce-0704-48cf-bbb2-45d9249ebd7f",
   "metadata": {},
   "outputs": [],
   "source": [
    "[[1,2,3,4],[46,5]]"
   ]
  },
  {
   "cell_type": "code",
   "execution_count": null,
   "id": "d4b7f657-6ff9-4281-9c9e-01876e6595d6",
   "metadata": {},
   "outputs": [],
   "source": []
  },
  {
   "cell_type": "code",
   "execution_count": null,
   "id": "bc3f5660-f709-41d0-9507-2320fd4303b4",
   "metadata": {},
   "outputs": [],
   "source": [
    "|git status"
   ]
  },
  {
   "cell_type": "code",
   "execution_count": null,
   "id": "44342a34-57de-4675-a6f6-c47220d73308",
   "metadata": {},
   "outputs": [],
   "source": []
  },
  {
   "cell_type": "code",
   "execution_count": null,
   "id": "ba58d0a0-ae76-424d-8b8c-c86353cf9668",
   "metadata": {},
   "outputs": [],
   "source": []
  },
  {
   "cell_type": "code",
   "execution_count": null,
   "id": "8328d102-2db5-44df-b5fa-7cc2906886d0",
   "metadata": {},
   "outputs": [],
   "source": []
  },
  {
   "cell_type": "code",
   "execution_count": null,
   "id": "984b7a21-5e5a-4921-aa2c-89dc78ab9309",
   "metadata": {},
   "outputs": [],
   "source": []
  },
  {
   "cell_type": "code",
   "execution_count": null,
   "id": "85f78eef-2a94-4a05-8308-cbb424aa97c5",
   "metadata": {},
   "outputs": [],
   "source": []
  },
  {
   "cell_type": "code",
   "execution_count": null,
   "id": "cd89d85e-680f-4ea6-8ce9-a9166ac3412b",
   "metadata": {},
   "outputs": [],
   "source": []
  }
 ],
 "metadata": {
  "kernelspec": {
   "display_name": "Python 3 (ipykernel)",
   "language": "python",
   "name": "python3"
  },
  "language_info": {
   "codemirror_mode": {
    "name": "ipython",
    "version": 3
   },
   "file_extension": ".py",
   "mimetype": "text/x-python",
   "name": "python",
   "nbconvert_exporter": "python",
   "pygments_lexer": "ipython3",
   "version": "3.11.5"
  }
 },
 "nbformat": 4,
 "nbformat_minor": 5
}
