{
 "cells": [
  {
   "cell_type": "code",
   "execution_count": 4,
   "id": "61198841-c40a-409e-8114-808e8169f597",
   "metadata": {},
   "outputs": [
    {
     "name": "stdout",
     "output_type": "stream",
     "text": [
      "Defaulting to user installation because normal site-packages is not writeable\n",
      "Collecting python3-nmap\n",
      "  Downloading python3_nmap-1.6.0-py3-none-any.whl (26 kB)\n",
      "Collecting simplejson (from python3-nmap)\n",
      "  Downloading simplejson-3.19.1-cp311-cp311-win_amd64.whl (75 kB)\n",
      "     ---------------------------------------- 0.0/75.3 kB ? eta -:--:--\n",
      "     ----- ---------------------------------- 10.2/75.3 kB ? eta -:--:--\n",
      "     -------------------- ----------------- 41.0/75.3 kB 653.6 kB/s eta 0:00:01\n",
      "     -------------------------------------- 75.3/75.3 kB 834.6 kB/s eta 0:00:00\n",
      "Installing collected packages: simplejson, python3-nmap\n",
      "Successfully installed python3-nmap-1.6.0 simplejson-3.19.1\n",
      "Note: you may need to restart the kernel to use updated packages.\n"
     ]
    }
   ],
   "source": [
    "pip install python3-nmap\n"
   ]
  },
  {
   "cell_type": "code",
   "execution_count": 7,
   "id": "4b472548-65cf-41d9-be72-508fa22eb2f8",
   "metadata": {},
   "outputs": [],
   "source": [
    "import nmap3 as map\n"
   ]
  },
  {
   "cell_type": "code",
   "execution_count": 8,
   "id": "f3254d2f-58f9-439c-b1e9-fb20bc0b3c19",
   "metadata": {},
   "outputs": [],
   "source": [
    "import nmap3"
   ]
  },
  {
   "cell_type": "code",
   "execution_count": null,
   "id": "e284f5e9-cf9f-4003-985a-9a262e7bb73f",
   "metadata": {},
   "outputs": [],
   "source": []
  }
 ],
 "metadata": {
  "kernelspec": {
   "display_name": "Python 3 (ipykernel)",
   "language": "python",
   "name": "python3"
  },
  "language_info": {
   "codemirror_mode": {
    "name": "ipython",
    "version": 3
   },
   "file_extension": ".py",
   "mimetype": "text/x-python",
   "name": "python",
   "nbconvert_exporter": "python",
   "pygments_lexer": "ipython3",
   "version": "3.11.5"
  }
 },
 "nbformat": 4,
 "nbformat_minor": 5
}
